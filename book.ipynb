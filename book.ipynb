{
 "cells": [
  {
   "cell_type": "markdown",
   "metadata": {},
   "source": [
    "Book1: Title: Forest Trees and Forest Scenery\n",
    "\n",
    "Author: G. Frederick Schwarz\n",
    "\n",
    "Release Date: September 21, 2021 [eBook #66356]\n",
    "\n",
    "Language: English\n",
    "\n",
    "Produced by: The Online Distributed Proofreading Team at\n",
    "             https://www.pgdp.net (This file was produced from images\n",
    "             generously made available by The Internet Archive)\n",
    "url: https://www.gutenberg.org/cache/epub/66356/pg66356.txt\n",
    "\n",
    "Book2: Title: The Canary Islands\n",
    "\n",
    "Author: Florence Du Cane\n",
    "\n",
    "Artist: Ella Du Cane\n",
    "\n",
    "Release Date: September 21, 2021 [eBook #66355]\n",
    "\n",
    "Language: English\n",
    "\n",
    "Produced by: Fay Dunn, Fiona Holmes and the Online Distributed\n",
    "             Proofreading Team at http://www.pgdp.net (This file was\n",
    "             produced from images generously made available by The\n",
    "             Internet Archive/American Libraries.)  \n",
    "url: https://www.gutenberg.org/cache/epub/66355/pg66355.txt\n",
    "\n",
    "\n"
   ]
  },
  {
   "cell_type": "markdown",
   "metadata": {},
   "source": [
    "The QUESTION to be analyzed:\n",
    "How many times does the word 'Project' and the word 'trees' have been mentioned in one line in two books?"
   ]
  },
  {
   "cell_type": "markdown",
   "metadata": {},
   "source": [
    "First Step: Creating two dictionary DictBook1 and DictBook2, both containing 'Project' and 'trees' as its keys and set both values to be 0."
   ]
  },
  {
   "cell_type": "code",
   "execution_count": 31,
   "metadata": {},
   "outputs": [],
   "source": [
    "DictBook1 = {'Project': 0, 'trees': 0}\n",
    "DictBook2 = {'Project': 0, 'trees': 0}"
   ]
  },
  {
   "cell_type": "markdown",
   "metadata": {},
   "source": [
    "Second Step: begin to analyze the first book. Open the first book and analyze it line by line. \n",
    "If 'Project' in one line, then increase the key value stored in DictBook1['Project'] by one. \n",
    "Simiarly, If 'trees' in one line, then increase the key value stored in DictBook1['trees'] by one."
   ]
  },
  {
   "cell_type": "code",
   "execution_count": 32,
   "metadata": {},
   "outputs": [
    {
     "name": "stdout",
     "output_type": "stream",
     "text": [
      "82\n",
      "154\n"
     ]
    }
   ],
   "source": [
    "f = open('data/book1.txt','r')\n",
    "for line in f:\n",
    "    if 'Project' in line:\n",
    "        DictBook1['Project'] += 1\n",
    "    if 'trees' in line:\n",
    "        DictBook1['trees'] += 1\n",
    "print(DictBook1['Project'])\n",
    "print(DictBook1['trees'])\n",
    "f.close()"
   ]
  },
  {
   "cell_type": "markdown",
   "metadata": {},
   "source": [
    "Third Step: begin to analyze the second book. Open the second book and analyze it line by line. \n",
    "If 'Project' in one line, then increase the key value stored in DictBook2['Project'] by one. \n",
    "Simiarly, If 'trees' in one line, then increase the key value stored in DictBook2['trees'] by one."
   ]
  },
  {
   "cell_type": "code",
   "execution_count": 33,
   "metadata": {},
   "outputs": [
    {
     "name": "stdout",
     "output_type": "stream",
     "text": [
      "82\n",
      "65\n"
     ]
    }
   ],
   "source": [
    "f = open('data/book2.txt','r')\n",
    "for line in f:\n",
    "    if 'Project' in line:\n",
    "        DictBook2['Project'] += 1\n",
    "    if 'trees' in line:\n",
    "        DictBook2['trees'] += 1\n",
    "print(DictBook2['Project'])\n",
    "print(DictBook2['trees'])\n",
    "f.close()"
   ]
  }
 ],
 "metadata": {
  "kernelspec": {
   "display_name": "Python 3",
   "language": "python",
   "name": "python3"
  },
  "language_info": {
   "codemirror_mode": {
    "name": "ipython",
    "version": 3
   },
   "file_extension": ".py",
   "mimetype": "text/x-python",
   "name": "python",
   "nbconvert_exporter": "python",
   "pygments_lexer": "ipython3",
   "version": "3.8.8"
  }
 },
 "nbformat": 4,
 "nbformat_minor": 4
}
